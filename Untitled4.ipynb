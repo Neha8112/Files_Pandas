{
  "nbformat": 4,
  "nbformat_minor": 0,
  "metadata": {
    "colab": {
      "provenance": [],
      "authorship_tag": "ABX9TyMUo3+xMauZfLVQrjiLS4kl",
      "include_colab_link": true
    },
    "kernelspec": {
      "name": "python3",
      "display_name": "Python 3"
    },
    "language_info": {
      "name": "python"
    }
  },
  "cells": [
    {
      "cell_type": "markdown",
      "metadata": {
        "id": "view-in-github",
        "colab_type": "text"
      },
      "source": [
        "<a href=\"https://colab.research.google.com/github/Neha8112/Files_Pandas/blob/main/Untitled4.ipynb\" target=\"_parent\"><img src=\"https://colab.research.google.com/assets/colab-badge.svg\" alt=\"Open In Colab\"/></a>"
      ]
    },
    {
      "cell_type": "code",
      "execution_count": 6,
      "metadata": {
        "colab": {
          "base_uri": "https://localhost:8080/",
          "height": 73
        },
        "id": "rxJR_gynnq4p",
        "outputId": "6bf7b3bf-c466-4e33-b3ec-80e271731a09"
      },
      "outputs": [
        {
          "output_type": "display_data",
          "data": {
            "text/plain": [
              "<IPython.core.display.HTML object>"
            ],
            "text/html": [
              "\n",
              "     <input type=\"file\" id=\"files-68628ced-7630-4525-b693-8560db91ad45\" name=\"files[]\" multiple disabled\n",
              "        style=\"border:none\" />\n",
              "     <output id=\"result-68628ced-7630-4525-b693-8560db91ad45\">\n",
              "      Upload widget is only available when the cell has been executed in the\n",
              "      current browser session. Please rerun this cell to enable.\n",
              "      </output>\n",
              "      <script>// Copyright 2017 Google LLC\n",
              "//\n",
              "// Licensed under the Apache License, Version 2.0 (the \"License\");\n",
              "// you may not use this file except in compliance with the License.\n",
              "// You may obtain a copy of the License at\n",
              "//\n",
              "//      http://www.apache.org/licenses/LICENSE-2.0\n",
              "//\n",
              "// Unless required by applicable law or agreed to in writing, software\n",
              "// distributed under the License is distributed on an \"AS IS\" BASIS,\n",
              "// WITHOUT WARRANTIES OR CONDITIONS OF ANY KIND, either express or implied.\n",
              "// See the License for the specific language governing permissions and\n",
              "// limitations under the License.\n",
              "\n",
              "/**\n",
              " * @fileoverview Helpers for google.colab Python module.\n",
              " */\n",
              "(function(scope) {\n",
              "function span(text, styleAttributes = {}) {\n",
              "  const element = document.createElement('span');\n",
              "  element.textContent = text;\n",
              "  for (const key of Object.keys(styleAttributes)) {\n",
              "    element.style[key] = styleAttributes[key];\n",
              "  }\n",
              "  return element;\n",
              "}\n",
              "\n",
              "// Max number of bytes which will be uploaded at a time.\n",
              "const MAX_PAYLOAD_SIZE = 100 * 1024;\n",
              "\n",
              "function _uploadFiles(inputId, outputId) {\n",
              "  const steps = uploadFilesStep(inputId, outputId);\n",
              "  const outputElement = document.getElementById(outputId);\n",
              "  // Cache steps on the outputElement to make it available for the next call\n",
              "  // to uploadFilesContinue from Python.\n",
              "  outputElement.steps = steps;\n",
              "\n",
              "  return _uploadFilesContinue(outputId);\n",
              "}\n",
              "\n",
              "// This is roughly an async generator (not supported in the browser yet),\n",
              "// where there are multiple asynchronous steps and the Python side is going\n",
              "// to poll for completion of each step.\n",
              "// This uses a Promise to block the python side on completion of each step,\n",
              "// then passes the result of the previous step as the input to the next step.\n",
              "function _uploadFilesContinue(outputId) {\n",
              "  const outputElement = document.getElementById(outputId);\n",
              "  const steps = outputElement.steps;\n",
              "\n",
              "  const next = steps.next(outputElement.lastPromiseValue);\n",
              "  return Promise.resolve(next.value.promise).then((value) => {\n",
              "    // Cache the last promise value to make it available to the next\n",
              "    // step of the generator.\n",
              "    outputElement.lastPromiseValue = value;\n",
              "    return next.value.response;\n",
              "  });\n",
              "}\n",
              "\n",
              "/**\n",
              " * Generator function which is called between each async step of the upload\n",
              " * process.\n",
              " * @param {string} inputId Element ID of the input file picker element.\n",
              " * @param {string} outputId Element ID of the output display.\n",
              " * @return {!Iterable<!Object>} Iterable of next steps.\n",
              " */\n",
              "function* uploadFilesStep(inputId, outputId) {\n",
              "  const inputElement = document.getElementById(inputId);\n",
              "  inputElement.disabled = false;\n",
              "\n",
              "  const outputElement = document.getElementById(outputId);\n",
              "  outputElement.innerHTML = '';\n",
              "\n",
              "  const pickedPromise = new Promise((resolve) => {\n",
              "    inputElement.addEventListener('change', (e) => {\n",
              "      resolve(e.target.files);\n",
              "    });\n",
              "  });\n",
              "\n",
              "  const cancel = document.createElement('button');\n",
              "  inputElement.parentElement.appendChild(cancel);\n",
              "  cancel.textContent = 'Cancel upload';\n",
              "  const cancelPromise = new Promise((resolve) => {\n",
              "    cancel.onclick = () => {\n",
              "      resolve(null);\n",
              "    };\n",
              "  });\n",
              "\n",
              "  // Wait for the user to pick the files.\n",
              "  const files = yield {\n",
              "    promise: Promise.race([pickedPromise, cancelPromise]),\n",
              "    response: {\n",
              "      action: 'starting',\n",
              "    }\n",
              "  };\n",
              "\n",
              "  cancel.remove();\n",
              "\n",
              "  // Disable the input element since further picks are not allowed.\n",
              "  inputElement.disabled = true;\n",
              "\n",
              "  if (!files) {\n",
              "    return {\n",
              "      response: {\n",
              "        action: 'complete',\n",
              "      }\n",
              "    };\n",
              "  }\n",
              "\n",
              "  for (const file of files) {\n",
              "    const li = document.createElement('li');\n",
              "    li.append(span(file.name, {fontWeight: 'bold'}));\n",
              "    li.append(span(\n",
              "        `(${file.type || 'n/a'}) - ${file.size} bytes, ` +\n",
              "        `last modified: ${\n",
              "            file.lastModifiedDate ? file.lastModifiedDate.toLocaleDateString() :\n",
              "                                    'n/a'} - `));\n",
              "    const percent = span('0% done');\n",
              "    li.appendChild(percent);\n",
              "\n",
              "    outputElement.appendChild(li);\n",
              "\n",
              "    const fileDataPromise = new Promise((resolve) => {\n",
              "      const reader = new FileReader();\n",
              "      reader.onload = (e) => {\n",
              "        resolve(e.target.result);\n",
              "      };\n",
              "      reader.readAsArrayBuffer(file);\n",
              "    });\n",
              "    // Wait for the data to be ready.\n",
              "    let fileData = yield {\n",
              "      promise: fileDataPromise,\n",
              "      response: {\n",
              "        action: 'continue',\n",
              "      }\n",
              "    };\n",
              "\n",
              "    // Use a chunked sending to avoid message size limits. See b/62115660.\n",
              "    let position = 0;\n",
              "    do {\n",
              "      const length = Math.min(fileData.byteLength - position, MAX_PAYLOAD_SIZE);\n",
              "      const chunk = new Uint8Array(fileData, position, length);\n",
              "      position += length;\n",
              "\n",
              "      const base64 = btoa(String.fromCharCode.apply(null, chunk));\n",
              "      yield {\n",
              "        response: {\n",
              "          action: 'append',\n",
              "          file: file.name,\n",
              "          data: base64,\n",
              "        },\n",
              "      };\n",
              "\n",
              "      let percentDone = fileData.byteLength === 0 ?\n",
              "          100 :\n",
              "          Math.round((position / fileData.byteLength) * 100);\n",
              "      percent.textContent = `${percentDone}% done`;\n",
              "\n",
              "    } while (position < fileData.byteLength);\n",
              "  }\n",
              "\n",
              "  // All done.\n",
              "  yield {\n",
              "    response: {\n",
              "      action: 'complete',\n",
              "    }\n",
              "  };\n",
              "}\n",
              "\n",
              "scope.google = scope.google || {};\n",
              "scope.google.colab = scope.google.colab || {};\n",
              "scope.google.colab._files = {\n",
              "  _uploadFiles,\n",
              "  _uploadFilesContinue,\n",
              "};\n",
              "})(self);\n",
              "</script> "
            ]
          },
          "metadata": {}
        },
        {
          "output_type": "stream",
          "name": "stdout",
          "text": [
            "Saving excel.csv to excel.csv\n"
          ]
        }
      ],
      "source": [
        "from google.colab import files\n",
        "uploaded=files.upload()"
      ]
    },
    {
      "cell_type": "markdown",
      "source": [
        "#. rename(p) method - Changing single column name"
      ],
      "metadata": {
        "id": "aeYeXhXfwS7l"
      }
    },
    {
      "cell_type": "code",
      "source": [
        "import pandas as pd\n",
        "df=pd.read_csv(\"excel.csv\")\n",
        "\n",
        "d={\n",
        "    \"Department\":\"Depart\"\n",
        "}\n",
        "\n",
        "df2=df.rename(columns=d)\n",
        "print(df.head(3))\n",
        "print()\n",
        "print(df2.head(3))"
      ],
      "metadata": {
        "colab": {
          "base_uri": "https://localhost:8080/"
        },
        "id": "VPIZo-x2tJ-W",
        "outputId": "3f633fb0-9bb2-4c86-9994-ca13a6d4d9fd"
      },
      "execution_count": 10,
      "outputs": [
        {
          "output_type": "stream",
          "name": "stdout",
          "text": [
            "    ID     Name   Age   Salary Department  Unnamed: 5  Unnamed: 6  Unnamed: 7  \\\n",
            "0  1.0    Alice  -5.0  70000.0         IT         NaN         NaN         NaN   \n",
            "1  2.0      Bob  35.0  50000.0        HRR         NaN         NaN         NaN   \n",
            "2  3.0  Charlie -10.0  80000.0     Financ         NaN         NaN         NaN   \n",
            "\n",
            "   Unnamed: 8  Unnamed: 9  Unnamed: 10  Unnamed: 11  \n",
            "0         NaN         NaN          NaN          NaN  \n",
            "1         NaN         NaN          NaN          NaN  \n",
            "2         NaN         NaN          NaN          NaN  \n",
            "\n",
            "    ID     Name   Age   Salary  Depart  Unnamed: 5  Unnamed: 6  Unnamed: 7  \\\n",
            "0  1.0    Alice  -5.0  70000.0      IT         NaN         NaN         NaN   \n",
            "1  2.0      Bob  35.0  50000.0     HRR         NaN         NaN         NaN   \n",
            "2  3.0  Charlie -10.0  80000.0  Financ         NaN         NaN         NaN   \n",
            "\n",
            "   Unnamed: 8  Unnamed: 9  Unnamed: 10  Unnamed: 11  \n",
            "0         NaN         NaN          NaN          NaN  \n",
            "1         NaN         NaN          NaN          NaN  \n",
            "2         NaN         NaN          NaN          NaN  \n"
          ]
        }
      ]
    },
    {
      "cell_type": "markdown",
      "source": [
        "# rename(p) method - Changing multiple column names"
      ],
      "metadata": {
        "id": "kdOOVBxZwQWO"
      }
    },
    {
      "cell_type": "code",
      "source": [
        "import pandas as pd\n",
        "df=pd.read_csv(\"excel.csv\")\n",
        "\n",
        "d={\n",
        "    \"Department\":\"Depart\",\n",
        "    \"ID\":\"Id\",\n",
        "    \"Name\":\"name\",\n",
        "    \"Age\":\"age\"\n",
        "}\n",
        "\n",
        "df2=df.rename(columns=d)\n",
        "print(df.head(3))\n",
        "print()\n",
        "print(df2.head(3))\n"
      ],
      "metadata": {
        "colab": {
          "base_uri": "https://localhost:8080/"
        },
        "id": "s8fyiykAvOUX",
        "outputId": "2cf07fee-c10e-4b4c-f99d-cd29af61afd8"
      },
      "execution_count": 11,
      "outputs": [
        {
          "output_type": "stream",
          "name": "stdout",
          "text": [
            "    ID     Name   Age   Salary Department  Unnamed: 5  Unnamed: 6  Unnamed: 7  \\\n",
            "0  1.0    Alice  -5.0  70000.0         IT         NaN         NaN         NaN   \n",
            "1  2.0      Bob  35.0  50000.0        HRR         NaN         NaN         NaN   \n",
            "2  3.0  Charlie -10.0  80000.0     Financ         NaN         NaN         NaN   \n",
            "\n",
            "   Unnamed: 8  Unnamed: 9  Unnamed: 10  Unnamed: 11  \n",
            "0         NaN         NaN          NaN          NaN  \n",
            "1         NaN         NaN          NaN          NaN  \n",
            "2         NaN         NaN          NaN          NaN  \n",
            "\n",
            "    Id     name   age   Salary  Depart  Unnamed: 5  Unnamed: 6  Unnamed: 7  \\\n",
            "0  1.0    Alice  -5.0  70000.0      IT         NaN         NaN         NaN   \n",
            "1  2.0      Bob  35.0  50000.0     HRR         NaN         NaN         NaN   \n",
            "2  3.0  Charlie -10.0  80000.0  Financ         NaN         NaN         NaN   \n",
            "\n",
            "   Unnamed: 8  Unnamed: 9  Unnamed: 10  Unnamed: 11  \n",
            "0         NaN         NaN          NaN          NaN  \n",
            "1         NaN         NaN          NaN          NaN  \n",
            "2         NaN         NaN          NaN          NaN  \n"
          ]
        }
      ]
    },
    {
      "cell_type": "markdown",
      "source": [
        "# columns attribute - Changing multiple column names"
      ],
      "metadata": {
        "id": "JrcHTXeXwJQA"
      }
    },
    {
      "cell_type": "code",
      "source": [
        "import pandas as pd\n",
        "df=pd.read_csv(\"excel.csv\")\n",
        "\n",
        "print(df.head())\n",
        "\n",
        "df.columns=[\n",
        "    \"ID\",\n",
        "    \"Name\",\n",
        "    \"Age\",\n",
        "\n",
        "]\n",
        "\n",
        "print()\n",
        "print(df.head())"
      ],
      "metadata": {
        "collapsed": true,
        "colab": {
          "base_uri": "https://localhost:8080/",
          "height": 616
        },
        "id": "sJqtO1N5v-o3",
        "outputId": "dc74006c-c634-4d9f-d2f2-9b6aeb2f09a6"
      },
      "execution_count": 16,
      "outputs": [
        {
          "output_type": "stream",
          "name": "stdout",
          "text": [
            "    ID     Name   Age   Salary Department  Unnamed: 5  Unnamed: 6  Unnamed: 7  \\\n",
            "0  1.0    Alice  -5.0  70000.0         IT         NaN         NaN         NaN   \n",
            "1  2.0      Bob  35.0  50000.0        HRR         NaN         NaN         NaN   \n",
            "2  3.0  Charlie -10.0  80000.0     Financ         NaN         NaN         NaN   \n",
            "3  4.0    David  40.0  60000.0         IT         NaN         NaN         NaN   \n",
            "4  5.0      Eve  -5.0  90000.0         HR         NaN         NaN         NaN   \n",
            "\n",
            "   Unnamed: 8  Unnamed: 9  Unnamed: 10  Unnamed: 11  \n",
            "0         NaN         NaN          NaN          NaN  \n",
            "1         NaN         NaN          NaN          NaN  \n",
            "2         NaN         NaN          NaN          NaN  \n",
            "3         NaN         NaN          NaN          NaN  \n",
            "4         NaN         NaN          NaN          NaN  \n"
          ]
        },
        {
          "output_type": "error",
          "ename": "ValueError",
          "evalue": "Length mismatch: Expected axis has 12 elements, new values have 3 elements",
          "traceback": [
            "\u001b[0;31m---------------------------------------------------------------------------\u001b[0m",
            "\u001b[0;31mValueError\u001b[0m                                Traceback (most recent call last)",
            "\u001b[0;32m/tmp/ipython-input-3828108037.py\u001b[0m in \u001b[0;36m<cell line: 0>\u001b[0;34m()\u001b[0m\n\u001b[1;32m      4\u001b[0m \u001b[0mprint\u001b[0m\u001b[0;34m(\u001b[0m\u001b[0mdf\u001b[0m\u001b[0;34m.\u001b[0m\u001b[0mhead\u001b[0m\u001b[0;34m(\u001b[0m\u001b[0;34m)\u001b[0m\u001b[0;34m)\u001b[0m\u001b[0;34m\u001b[0m\u001b[0;34m\u001b[0m\u001b[0m\n\u001b[1;32m      5\u001b[0m \u001b[0;34m\u001b[0m\u001b[0m\n\u001b[0;32m----> 6\u001b[0;31m df.columns=[\n\u001b[0m\u001b[1;32m      7\u001b[0m     \u001b[0;34m\"ID\"\u001b[0m\u001b[0;34m,\u001b[0m\u001b[0;34m\u001b[0m\u001b[0;34m\u001b[0m\u001b[0m\n\u001b[1;32m      8\u001b[0m     \u001b[0;34m\"Name\"\u001b[0m\u001b[0;34m,\u001b[0m\u001b[0;34m\u001b[0m\u001b[0;34m\u001b[0m\u001b[0m\n",
            "\u001b[0;32m/usr/local/lib/python3.12/dist-packages/pandas/core/generic.py\u001b[0m in \u001b[0;36m__setattr__\u001b[0;34m(self, name, value)\u001b[0m\n\u001b[1;32m   6311\u001b[0m         \u001b[0;32mtry\u001b[0m\u001b[0;34m:\u001b[0m\u001b[0;34m\u001b[0m\u001b[0;34m\u001b[0m\u001b[0m\n\u001b[1;32m   6312\u001b[0m             \u001b[0mobject\u001b[0m\u001b[0;34m.\u001b[0m\u001b[0m__getattribute__\u001b[0m\u001b[0;34m(\u001b[0m\u001b[0mself\u001b[0m\u001b[0;34m,\u001b[0m \u001b[0mname\u001b[0m\u001b[0;34m)\u001b[0m\u001b[0;34m\u001b[0m\u001b[0;34m\u001b[0m\u001b[0m\n\u001b[0;32m-> 6313\u001b[0;31m             \u001b[0;32mreturn\u001b[0m \u001b[0mobject\u001b[0m\u001b[0;34m.\u001b[0m\u001b[0m__setattr__\u001b[0m\u001b[0;34m(\u001b[0m\u001b[0mself\u001b[0m\u001b[0;34m,\u001b[0m \u001b[0mname\u001b[0m\u001b[0;34m,\u001b[0m \u001b[0mvalue\u001b[0m\u001b[0;34m)\u001b[0m\u001b[0;34m\u001b[0m\u001b[0;34m\u001b[0m\u001b[0m\n\u001b[0m\u001b[1;32m   6314\u001b[0m         \u001b[0;32mexcept\u001b[0m \u001b[0mAttributeError\u001b[0m\u001b[0;34m:\u001b[0m\u001b[0;34m\u001b[0m\u001b[0;34m\u001b[0m\u001b[0m\n\u001b[1;32m   6315\u001b[0m             \u001b[0;32mpass\u001b[0m\u001b[0;34m\u001b[0m\u001b[0;34m\u001b[0m\u001b[0m\n",
            "\u001b[0;32mproperties.pyx\u001b[0m in \u001b[0;36mpandas._libs.properties.AxisProperty.__set__\u001b[0;34m()\u001b[0m\n",
            "\u001b[0;32m/usr/local/lib/python3.12/dist-packages/pandas/core/generic.py\u001b[0m in \u001b[0;36m_set_axis\u001b[0;34m(self, axis, labels)\u001b[0m\n\u001b[1;32m    812\u001b[0m         \"\"\"\n\u001b[1;32m    813\u001b[0m         \u001b[0mlabels\u001b[0m \u001b[0;34m=\u001b[0m \u001b[0mensure_index\u001b[0m\u001b[0;34m(\u001b[0m\u001b[0mlabels\u001b[0m\u001b[0;34m)\u001b[0m\u001b[0;34m\u001b[0m\u001b[0;34m\u001b[0m\u001b[0m\n\u001b[0;32m--> 814\u001b[0;31m         \u001b[0mself\u001b[0m\u001b[0;34m.\u001b[0m\u001b[0m_mgr\u001b[0m\u001b[0;34m.\u001b[0m\u001b[0mset_axis\u001b[0m\u001b[0;34m(\u001b[0m\u001b[0maxis\u001b[0m\u001b[0;34m,\u001b[0m \u001b[0mlabels\u001b[0m\u001b[0;34m)\u001b[0m\u001b[0;34m\u001b[0m\u001b[0;34m\u001b[0m\u001b[0m\n\u001b[0m\u001b[1;32m    815\u001b[0m         \u001b[0mself\u001b[0m\u001b[0;34m.\u001b[0m\u001b[0m_clear_item_cache\u001b[0m\u001b[0;34m(\u001b[0m\u001b[0;34m)\u001b[0m\u001b[0;34m\u001b[0m\u001b[0;34m\u001b[0m\u001b[0m\n\u001b[1;32m    816\u001b[0m \u001b[0;34m\u001b[0m\u001b[0m\n",
            "\u001b[0;32m/usr/local/lib/python3.12/dist-packages/pandas/core/internals/managers.py\u001b[0m in \u001b[0;36mset_axis\u001b[0;34m(self, axis, new_labels)\u001b[0m\n\u001b[1;32m    236\u001b[0m     \u001b[0;32mdef\u001b[0m \u001b[0mset_axis\u001b[0m\u001b[0;34m(\u001b[0m\u001b[0mself\u001b[0m\u001b[0;34m,\u001b[0m \u001b[0maxis\u001b[0m\u001b[0;34m:\u001b[0m \u001b[0mAxisInt\u001b[0m\u001b[0;34m,\u001b[0m \u001b[0mnew_labels\u001b[0m\u001b[0;34m:\u001b[0m \u001b[0mIndex\u001b[0m\u001b[0;34m)\u001b[0m \u001b[0;34m->\u001b[0m \u001b[0;32mNone\u001b[0m\u001b[0;34m:\u001b[0m\u001b[0;34m\u001b[0m\u001b[0;34m\u001b[0m\u001b[0m\n\u001b[1;32m    237\u001b[0m         \u001b[0;31m# Caller is responsible for ensuring we have an Index object.\u001b[0m\u001b[0;34m\u001b[0m\u001b[0;34m\u001b[0m\u001b[0m\n\u001b[0;32m--> 238\u001b[0;31m         \u001b[0mself\u001b[0m\u001b[0;34m.\u001b[0m\u001b[0m_validate_set_axis\u001b[0m\u001b[0;34m(\u001b[0m\u001b[0maxis\u001b[0m\u001b[0;34m,\u001b[0m \u001b[0mnew_labels\u001b[0m\u001b[0;34m)\u001b[0m\u001b[0;34m\u001b[0m\u001b[0;34m\u001b[0m\u001b[0m\n\u001b[0m\u001b[1;32m    239\u001b[0m         \u001b[0mself\u001b[0m\u001b[0;34m.\u001b[0m\u001b[0maxes\u001b[0m\u001b[0;34m[\u001b[0m\u001b[0maxis\u001b[0m\u001b[0;34m]\u001b[0m \u001b[0;34m=\u001b[0m \u001b[0mnew_labels\u001b[0m\u001b[0;34m\u001b[0m\u001b[0;34m\u001b[0m\u001b[0m\n\u001b[1;32m    240\u001b[0m \u001b[0;34m\u001b[0m\u001b[0m\n",
            "\u001b[0;32m/usr/local/lib/python3.12/dist-packages/pandas/core/internals/base.py\u001b[0m in \u001b[0;36m_validate_set_axis\u001b[0;34m(self, axis, new_labels)\u001b[0m\n\u001b[1;32m     96\u001b[0m \u001b[0;34m\u001b[0m\u001b[0m\n\u001b[1;32m     97\u001b[0m         \u001b[0;32melif\u001b[0m \u001b[0mnew_len\u001b[0m \u001b[0;34m!=\u001b[0m \u001b[0mold_len\u001b[0m\u001b[0;34m:\u001b[0m\u001b[0;34m\u001b[0m\u001b[0;34m\u001b[0m\u001b[0m\n\u001b[0;32m---> 98\u001b[0;31m             raise ValueError(\n\u001b[0m\u001b[1;32m     99\u001b[0m                 \u001b[0;34mf\"Length mismatch: Expected axis has {old_len} elements, new \"\u001b[0m\u001b[0;34m\u001b[0m\u001b[0;34m\u001b[0m\u001b[0m\n\u001b[1;32m    100\u001b[0m                 \u001b[0;34mf\"values have {new_len} elements\"\u001b[0m\u001b[0;34m\u001b[0m\u001b[0;34m\u001b[0m\u001b[0m\n",
            "\u001b[0;31mValueError\u001b[0m: Length mismatch: Expected axis has 12 elements, new values have 3 elements"
          ]
        }
      ]
    },
    {
      "cell_type": "markdown",
      "source": [
        "# 4 rename(p) method - Changing index in DataFrame"
      ],
      "metadata": {
        "id": "20QiKm-xyiVv"
      }
    },
    {
      "cell_type": "code",
      "source": [
        "import pandas as pd\n",
        "d = {\n",
        " \"order_id\": [11, 21, 31],\n",
        " \"customer_name\": [\"Prasad\", \"Daniel\", \"Jeswanth\"],\n",
        " \"product\": [\"iPhone\", \"hTC\", \"macbook\"]\n",
        "}\n",
        "df1 = pd.DataFrame(d)\n",
        "print(df1)"
      ],
      "metadata": {
        "colab": {
          "base_uri": "https://localhost:8080/"
        },
        "id": "tIY4WRfjyc9s",
        "outputId": "7f48fbc0-cc79-4bcb-afc3-cef8fb31ef8f"
      },
      "execution_count": 17,
      "outputs": [
        {
          "output_type": "stream",
          "name": "stdout",
          "text": [
            "   order_id customer_name  product\n",
            "0        11        Prasad   iPhone\n",
            "1        21        Daniel      hTC\n",
            "2        31      Jeswanth  macbook\n"
          ]
        }
      ]
    },
    {
      "cell_type": "markdown",
      "source": [
        "# 5 . index attribute - Changing multiple column names"
      ],
      "metadata": {
        "id": "NsMLNX-5zBMF"
      }
    },
    {
      "cell_type": "code",
      "source": [
        "import pandas as pd\n",
        "d={\n",
        "    \"Order_Id\":[11,22,33],\n",
        "    \"customer_name\":[\"Neha\",\"Harshali\",\"Priya\"],\n",
        "    \"product\":[\"iphone\",\"htc\",\"macbook\"]\n",
        "}\n",
        "df1=pd.DataFrame(d)\n",
        "print(df1)\n",
        "\n",
        "df1.index=[77,88,99]\n",
        "print()\n",
        "print(df1)"
      ],
      "metadata": {
        "colab": {
          "base_uri": "https://localhost:8080/"
        },
        "id": "_pddpHWkzIyu",
        "outputId": "7c2ea2df-9659-4de5-bb0f-90ea329fc8ac"
      },
      "execution_count": 21,
      "outputs": [
        {
          "output_type": "stream",
          "name": "stdout",
          "text": [
            "   Order_Id customer_name  product\n",
            "0        11          Neha   iphone\n",
            "1        22      Harshali      htc\n",
            "2        33         Priya  macbook\n",
            "\n",
            "    Order_Id customer_name  product\n",
            "77        11          Neha   iphone\n",
            "88        22      Harshali      htc\n",
            "99        33         Priya  macbook\n"
          ]
        }
      ]
    },
    {
      "cell_type": "markdown",
      "source": [
        "# 6. Converting column names from lower case to upper case"
      ],
      "metadata": {
        "id": "7iG5YwdH0yM2"
      }
    },
    {
      "cell_type": "code",
      "source": [
        "import pandas as pd\n",
        "df=pd.read_csv(\"excel.csv\")\n",
        "print(df.head())\n",
        "\n",
        "df.columns=df.columns.str.upper()\n",
        "\n",
        "print()\n",
        "\n",
        "print(df.head())\n",
        "\n"
      ],
      "metadata": {
        "colab": {
          "base_uri": "https://localhost:8080/"
        },
        "id": "DNPGjxXy030P",
        "outputId": "0e4714c2-e0f6-4d20-a55f-54d78f26317d"
      },
      "execution_count": 22,
      "outputs": [
        {
          "output_type": "stream",
          "name": "stdout",
          "text": [
            "    ID     Name   Age   Salary Department  Unnamed: 5  Unnamed: 6  Unnamed: 7  \\\n",
            "0  1.0    Alice  -5.0  70000.0         IT         NaN         NaN         NaN   \n",
            "1  2.0      Bob  35.0  50000.0        HRR         NaN         NaN         NaN   \n",
            "2  3.0  Charlie -10.0  80000.0     Financ         NaN         NaN         NaN   \n",
            "3  4.0    David  40.0  60000.0         IT         NaN         NaN         NaN   \n",
            "4  5.0      Eve  -5.0  90000.0         HR         NaN         NaN         NaN   \n",
            "\n",
            "   Unnamed: 8  Unnamed: 9  Unnamed: 10  Unnamed: 11  \n",
            "0         NaN         NaN          NaN          NaN  \n",
            "1         NaN         NaN          NaN          NaN  \n",
            "2         NaN         NaN          NaN          NaN  \n",
            "3         NaN         NaN          NaN          NaN  \n",
            "4         NaN         NaN          NaN          NaN  \n",
            "\n",
            "    ID     NAME   AGE   SALARY DEPARTMENT  UNNAMED: 5  UNNAMED: 6  UNNAMED: 7  \\\n",
            "0  1.0    Alice  -5.0  70000.0         IT         NaN         NaN         NaN   \n",
            "1  2.0      Bob  35.0  50000.0        HRR         NaN         NaN         NaN   \n",
            "2  3.0  Charlie -10.0  80000.0     Financ         NaN         NaN         NaN   \n",
            "3  4.0    David  40.0  60000.0         IT         NaN         NaN         NaN   \n",
            "4  5.0      Eve  -5.0  90000.0         HR         NaN         NaN         NaN   \n",
            "\n",
            "   UNNAMED: 8  UNNAMED: 9  UNNAMED: 10  UNNAMED: 11  \n",
            "0         NaN         NaN          NaN          NaN  \n",
            "1         NaN         NaN          NaN          NaN  \n",
            "2         NaN         NaN          NaN          NaN  \n",
            "3         NaN         NaN          NaN          NaN  \n",
            "4         NaN         NaN          NaN          NaN  \n"
          ]
        }
      ]
    }
  ]
}