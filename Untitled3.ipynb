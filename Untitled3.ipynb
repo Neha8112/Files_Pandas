{
  "nbformat": 4,
  "nbformat_minor": 0,
  "metadata": {
    "colab": {
      "provenance": [],
      "authorship_tag": "ABX9TyMXgXNVagVwusB7SY///SdK",
      "include_colab_link": true
    },
    "kernelspec": {
      "name": "python3",
      "display_name": "Python 3"
    },
    "language_info": {
      "name": "python"
    }
  },
  "cells": [
    {
      "cell_type": "markdown",
      "metadata": {
        "id": "view-in-github",
        "colab_type": "text"
      },
      "source": [
        "<a href=\"https://colab.research.google.com/github/Neha8112/Files_Pandas/blob/main/Untitled3.ipynb\" target=\"_parent\"><img src=\"https://colab.research.google.com/assets/colab-badge.svg\" alt=\"Open In Colab\"/></a>"
      ]
    },
    {
      "cell_type": "code",
      "execution_count": 5,
      "metadata": {
        "colab": {
          "base_uri": "https://localhost:8080/",
          "height": 73
        },
        "id": "ZwsJymJw_ZTu",
        "outputId": "04c27ec7-3cd2-4d6e-952a-dee53e3a169b"
      },
      "outputs": [
        {
          "output_type": "display_data",
          "data": {
            "text/plain": [
              "<IPython.core.display.HTML object>"
            ],
            "text/html": [
              "\n",
              "     <input type=\"file\" id=\"files-21266158-88c2-4731-a998-66e0367aa51c\" name=\"files[]\" multiple disabled\n",
              "        style=\"border:none\" />\n",
              "     <output id=\"result-21266158-88c2-4731-a998-66e0367aa51c\">\n",
              "      Upload widget is only available when the cell has been executed in the\n",
              "      current browser session. Please rerun this cell to enable.\n",
              "      </output>\n",
              "      <script>// Copyright 2017 Google LLC\n",
              "//\n",
              "// Licensed under the Apache License, Version 2.0 (the \"License\");\n",
              "// you may not use this file except in compliance with the License.\n",
              "// You may obtain a copy of the License at\n",
              "//\n",
              "//      http://www.apache.org/licenses/LICENSE-2.0\n",
              "//\n",
              "// Unless required by applicable law or agreed to in writing, software\n",
              "// distributed under the License is distributed on an \"AS IS\" BASIS,\n",
              "// WITHOUT WARRANTIES OR CONDITIONS OF ANY KIND, either express or implied.\n",
              "// See the License for the specific language governing permissions and\n",
              "// limitations under the License.\n",
              "\n",
              "/**\n",
              " * @fileoverview Helpers for google.colab Python module.\n",
              " */\n",
              "(function(scope) {\n",
              "function span(text, styleAttributes = {}) {\n",
              "  const element = document.createElement('span');\n",
              "  element.textContent = text;\n",
              "  for (const key of Object.keys(styleAttributes)) {\n",
              "    element.style[key] = styleAttributes[key];\n",
              "  }\n",
              "  return element;\n",
              "}\n",
              "\n",
              "// Max number of bytes which will be uploaded at a time.\n",
              "const MAX_PAYLOAD_SIZE = 100 * 1024;\n",
              "\n",
              "function _uploadFiles(inputId, outputId) {\n",
              "  const steps = uploadFilesStep(inputId, outputId);\n",
              "  const outputElement = document.getElementById(outputId);\n",
              "  // Cache steps on the outputElement to make it available for the next call\n",
              "  // to uploadFilesContinue from Python.\n",
              "  outputElement.steps = steps;\n",
              "\n",
              "  return _uploadFilesContinue(outputId);\n",
              "}\n",
              "\n",
              "// This is roughly an async generator (not supported in the browser yet),\n",
              "// where there are multiple asynchronous steps and the Python side is going\n",
              "// to poll for completion of each step.\n",
              "// This uses a Promise to block the python side on completion of each step,\n",
              "// then passes the result of the previous step as the input to the next step.\n",
              "function _uploadFilesContinue(outputId) {\n",
              "  const outputElement = document.getElementById(outputId);\n",
              "  const steps = outputElement.steps;\n",
              "\n",
              "  const next = steps.next(outputElement.lastPromiseValue);\n",
              "  return Promise.resolve(next.value.promise).then((value) => {\n",
              "    // Cache the last promise value to make it available to the next\n",
              "    // step of the generator.\n",
              "    outputElement.lastPromiseValue = value;\n",
              "    return next.value.response;\n",
              "  });\n",
              "}\n",
              "\n",
              "/**\n",
              " * Generator function which is called between each async step of the upload\n",
              " * process.\n",
              " * @param {string} inputId Element ID of the input file picker element.\n",
              " * @param {string} outputId Element ID of the output display.\n",
              " * @return {!Iterable<!Object>} Iterable of next steps.\n",
              " */\n",
              "function* uploadFilesStep(inputId, outputId) {\n",
              "  const inputElement = document.getElementById(inputId);\n",
              "  inputElement.disabled = false;\n",
              "\n",
              "  const outputElement = document.getElementById(outputId);\n",
              "  outputElement.innerHTML = '';\n",
              "\n",
              "  const pickedPromise = new Promise((resolve) => {\n",
              "    inputElement.addEventListener('change', (e) => {\n",
              "      resolve(e.target.files);\n",
              "    });\n",
              "  });\n",
              "\n",
              "  const cancel = document.createElement('button');\n",
              "  inputElement.parentElement.appendChild(cancel);\n",
              "  cancel.textContent = 'Cancel upload';\n",
              "  const cancelPromise = new Promise((resolve) => {\n",
              "    cancel.onclick = () => {\n",
              "      resolve(null);\n",
              "    };\n",
              "  });\n",
              "\n",
              "  // Wait for the user to pick the files.\n",
              "  const files = yield {\n",
              "    promise: Promise.race([pickedPromise, cancelPromise]),\n",
              "    response: {\n",
              "      action: 'starting',\n",
              "    }\n",
              "  };\n",
              "\n",
              "  cancel.remove();\n",
              "\n",
              "  // Disable the input element since further picks are not allowed.\n",
              "  inputElement.disabled = true;\n",
              "\n",
              "  if (!files) {\n",
              "    return {\n",
              "      response: {\n",
              "        action: 'complete',\n",
              "      }\n",
              "    };\n",
              "  }\n",
              "\n",
              "  for (const file of files) {\n",
              "    const li = document.createElement('li');\n",
              "    li.append(span(file.name, {fontWeight: 'bold'}));\n",
              "    li.append(span(\n",
              "        `(${file.type || 'n/a'}) - ${file.size} bytes, ` +\n",
              "        `last modified: ${\n",
              "            file.lastModifiedDate ? file.lastModifiedDate.toLocaleDateString() :\n",
              "                                    'n/a'} - `));\n",
              "    const percent = span('0% done');\n",
              "    li.appendChild(percent);\n",
              "\n",
              "    outputElement.appendChild(li);\n",
              "\n",
              "    const fileDataPromise = new Promise((resolve) => {\n",
              "      const reader = new FileReader();\n",
              "      reader.onload = (e) => {\n",
              "        resolve(e.target.result);\n",
              "      };\n",
              "      reader.readAsArrayBuffer(file);\n",
              "    });\n",
              "    // Wait for the data to be ready.\n",
              "    let fileData = yield {\n",
              "      promise: fileDataPromise,\n",
              "      response: {\n",
              "        action: 'continue',\n",
              "      }\n",
              "    };\n",
              "\n",
              "    // Use a chunked sending to avoid message size limits. See b/62115660.\n",
              "    let position = 0;\n",
              "    do {\n",
              "      const length = Math.min(fileData.byteLength - position, MAX_PAYLOAD_SIZE);\n",
              "      const chunk = new Uint8Array(fileData, position, length);\n",
              "      position += length;\n",
              "\n",
              "      const base64 = btoa(String.fromCharCode.apply(null, chunk));\n",
              "      yield {\n",
              "        response: {\n",
              "          action: 'append',\n",
              "          file: file.name,\n",
              "          data: base64,\n",
              "        },\n",
              "      };\n",
              "\n",
              "      let percentDone = fileData.byteLength === 0 ?\n",
              "          100 :\n",
              "          Math.round((position / fileData.byteLength) * 100);\n",
              "      percent.textContent = `${percentDone}% done`;\n",
              "\n",
              "    } while (position < fileData.byteLength);\n",
              "  }\n",
              "\n",
              "  // All done.\n",
              "  yield {\n",
              "    response: {\n",
              "      action: 'complete',\n",
              "    }\n",
              "  };\n",
              "}\n",
              "\n",
              "scope.google = scope.google || {};\n",
              "scope.google.colab = scope.google.colab || {};\n",
              "scope.google.colab._files = {\n",
              "  _uploadFiles,\n",
              "  _uploadFilesContinue,\n",
              "};\n",
              "})(self);\n",
              "</script> "
            ]
          },
          "metadata": {}
        },
        {
          "output_type": "stream",
          "name": "stdout",
          "text": [
            "Saving Bangalore.csv to Bangalore.csv\n"
          ]
        }
      ],
      "source": [
        "from google.colab import files\n",
        "uploaded=files.upload()\n"
      ]
    },
    {
      "cell_type": "markdown",
      "source": [
        "SERIES METHOD"
      ],
      "metadata": {
        "id": "YaJyUPDcH-mI"
      }
    },
    {
      "cell_type": "code",
      "source": [
        "import pandas as pd\n",
        "df=pd.read_csv(\"Bangalore.csv\")\n",
        "print(df.head())"
      ],
      "metadata": {
        "colab": {
          "base_uri": "https://localhost:8080/"
        },
        "id": "vbWCoAOTALHj",
        "outputId": "052803c3-1c10-4a95-b8b7-ede5e7f59b77"
      },
      "execution_count": 7,
      "outputs": [
        {
          "output_type": "stream",
          "name": "stdout",
          "text": [
            "         Date      Time Booking ID         Booking Status Customer ID  \\\n",
            "0  2025-08-17  14:41:19    BK10000                Success    CUST8331   \n",
            "1  2025-08-06  03:49:22    BK10001  Cancelled by Customer    CUST4817   \n",
            "2  2025-08-08  07:54:54    BK10002  Cancelled by Customer    CUST3284   \n",
            "3  2025-08-27  22:28:17    BK10003                Success    CUST2393   \n",
            "4  2025-08-10  08:03:05    BK10004                Success    CUST9765   \n",
            "\n",
            "  Vehicle Type Pickup Location      Drop Location  Avg VTAT  Avg CTAT  \\\n",
            "0         Bike          Hebbal        Koramangala       9.8       7.0   \n",
            "1   Prime Plus   Wilson Garden    Electronic City       NaN       NaN   \n",
            "2   Prime Plus    Shivajinagar             Hebbal       NaN       NaN   \n",
            "3  Prime Sedan   Wilson Garden        Rajajinagar      10.4       9.0   \n",
            "4   Prime Plus        KR Puram  Palace Guttahalli       2.2      17.2   \n",
            "\n",
            "   Cancelled Rides by Customer Reason for cancelling by Customer  \\\n",
            "0                            0                               NaN   \n",
            "1                            1                     Wrong Address   \n",
            "2                            1                     Wrong Address   \n",
            "3                            0                               NaN   \n",
            "4                            0                               NaN   \n",
            "\n",
            "   Cancelled Rides by Driver Reason for cancelling by Driver  \\\n",
            "0                          0                             NaN   \n",
            "1                          0                             NaN   \n",
            "2                          0                             NaN   \n",
            "3                          0                             NaN   \n",
            "4                          0                             NaN   \n",
            "\n",
            "   Incomplete Rides Incomplete Rides Reason  Booking Value  Ride Distance  \\\n",
            "0                 0                     NaN         997.73           2.11   \n",
            "1                 0                     NaN            NaN            NaN   \n",
            "2                 0                     NaN            NaN            NaN   \n",
            "3                 0                     NaN        1425.83          12.36   \n",
            "4                 0                     NaN         116.80           4.70   \n",
            "\n",
            "   Driver Ratings  Customer Rating  \n",
            "0             4.8              3.5  \n",
            "1             NaN              NaN  \n",
            "2             NaN              NaN  \n",
            "3             4.9              3.1  \n",
            "4             3.4              4.3  \n"
          ]
        }
      ]
    },
    {
      "cell_type": "code",
      "source": [
        "import pandas as pd\n",
        "df=pd.read_csv(\"Bangalore.csv\")\n",
        "print(df.tail())"
      ],
      "metadata": {
        "colab": {
          "base_uri": "https://localhost:8080/"
        },
        "id": "hGp9tCweCRUN",
        "outputId": "829eef6b-9d91-4003-e527-aceea0806ae0"
      },
      "execution_count": 8,
      "outputs": [
        {
          "output_type": "stream",
          "name": "stdout",
          "text": [
            "           Date      Time Booking ID         Booking Status Customer ID  \\\n",
            "495  2025-08-06  07:37:29    BK10495                Success    CUST5527   \n",
            "496  2025-08-10  11:21:25    BK10496  Cancelled by Customer    CUST4408   \n",
            "497  2025-08-07  06:20:13    BK10497  Cancelled by Customer    CUST7942   \n",
            "498  2025-08-27  00:31:21    BK10498    Cancelled by Driver    CUST9018   \n",
            "499  2025-08-03  01:00:15    BK10499                Success    CUST1022   \n",
            "\n",
            "    Vehicle Type Pickup Location Drop Location  Avg VTAT  Avg CTAT  \\\n",
            "495         Auto  Sadashivanagar    Whitefield      11.7      14.1   \n",
            "496    Prime SUV          Domlur    BTM Layout       NaN       NaN   \n",
            "497   Prime Plus     Tumkur Road      Attibele       NaN       NaN   \n",
            "498        eBike     Chamarajpet   Vijayanagar       NaN       NaN   \n",
            "499    Prime SUV   Sarjapur Road  Shivajinagar       7.2      11.6   \n",
            "\n",
            "     Cancelled Rides by Customer Reason for cancelling by Customer  \\\n",
            "495                            0                               NaN   \n",
            "496                            1                   Change of plans   \n",
            "497                            1            Driver asked to cancel   \n",
            "498                            0                               NaN   \n",
            "499                            0                               NaN   \n",
            "\n",
            "     Cancelled Rides by Driver      Reason for cancelling by Driver  \\\n",
            "495                          0                                  NaN   \n",
            "496                          0                                  NaN   \n",
            "497                          0                                  NaN   \n",
            "498                          1  More than permitted people in there   \n",
            "499                          0                                  NaN   \n",
            "\n",
            "     Incomplete Rides Incomplete Rides Reason  Booking Value  Ride Distance  \\\n",
            "495                 0                     NaN         934.24           6.06   \n",
            "496                 0                     NaN            NaN            NaN   \n",
            "497                 0                     NaN            NaN            NaN   \n",
            "498                 0                     NaN            NaN            NaN   \n",
            "499                 0                     NaN        1601.86          25.13   \n",
            "\n",
            "     Driver Ratings  Customer Rating  \n",
            "495             3.5              3.9  \n",
            "496             NaN              NaN  \n",
            "497             NaN              NaN  \n",
            "498             NaN              NaN  \n",
            "499             4.7              4.7  \n"
          ]
        }
      ]
    },
    {
      "cell_type": "code",
      "source": [
        "import pandas as pd\n",
        "data=[1,2,3,4,5,6,7]\n",
        "df=pd.Series(data)\n",
        "print(df.sum())"
      ],
      "metadata": {
        "colab": {
          "base_uri": "https://localhost:8080/"
        },
        "id": "FB5NqPxbCiD-",
        "outputId": "641f2e1a-ae44-4d61-ef41-e0cf6c559988"
      },
      "execution_count": 14,
      "outputs": [
        {
          "output_type": "stream",
          "name": "stdout",
          "text": [
            "28\n"
          ]
        }
      ]
    },
    {
      "cell_type": "code",
      "source": [
        "import pandas as pd\n",
        "df=pd.read_csv(\"Bangalore.csv\")\n",
        "print(df.count())"
      ],
      "metadata": {
        "id": "LbIYjnm5GOkr",
        "outputId": "5ebf75d5-c276-4e34-8291-57f119492a2e",
        "colab": {
          "base_uri": "https://localhost:8080/"
        }
      },
      "execution_count": 17,
      "outputs": [
        {
          "output_type": "stream",
          "name": "stdout",
          "text": [
            "Date                                 500\n",
            "Time                                 500\n",
            "Booking ID                           500\n",
            "Booking Status                       500\n",
            "Customer ID                          500\n",
            "Vehicle Type                         500\n",
            "Pickup Location                      500\n",
            "Drop Location                        500\n",
            "Avg VTAT                             318\n",
            "Avg CTAT                             318\n",
            "Cancelled Rides by Customer          500\n",
            "Reason for cancelling by Customer     95\n",
            "Cancelled Rides by Driver            500\n",
            "Reason for cancelling by Driver       67\n",
            "Incomplete Rides                     500\n",
            "Incomplete Rides Reason               20\n",
            "Booking Value                        318\n",
            "Ride Distance                        318\n",
            "Driver Ratings                       318\n",
            "Customer Rating                      318\n",
            "dtype: int64\n"
          ]
        }
      ]
    },
    {
      "cell_type": "code",
      "source": [
        "import pandas as pd\n",
        "data=[1,2,3,4,5,6,7]\n",
        "df=pd.Series(data)\n",
        "#df=pd.read_csv(\"Bangalore.csv\")\n",
        "print(df.mean())"
      ],
      "metadata": {
        "id": "pkERNiQqGsiy",
        "outputId": "2abda822-870c-49d5-a961-f2377b83d85a",
        "colab": {
          "base_uri": "https://localhost:8080/"
        }
      },
      "execution_count": 19,
      "outputs": [
        {
          "output_type": "stream",
          "name": "stdout",
          "text": [
            "4.0\n"
          ]
        }
      ]
    },
    {
      "cell_type": "code",
      "source": [
        "import pandas as pd\n",
        "df=pd.read_csv(\"Bangalore.csv\")\n",
        "print(df.describe())"
      ],
      "metadata": {
        "id": "bC7FdHD5HNTO",
        "outputId": "297dc0ca-8bf2-4143-b120-0836e8b1b1e4",
        "colab": {
          "base_uri": "https://localhost:8080/"
        }
      },
      "execution_count": 20,
      "outputs": [
        {
          "output_type": "stream",
          "name": "stdout",
          "text": [
            "         Avg VTAT    Avg CTAT  Cancelled Rides by Customer  \\\n",
            "count  318.000000  318.000000                   500.000000   \n",
            "mean     8.555031   12.698113                     0.190000   \n",
            "std      3.745949    4.284275                     0.392694   \n",
            "min      2.000000    5.000000                     0.000000   \n",
            "25%      5.425000    9.325000                     0.000000   \n",
            "50%      8.900000   12.900000                     0.000000   \n",
            "75%     11.600000   16.400000                     0.000000   \n",
            "max     15.000000   20.000000                     1.000000   \n",
            "\n",
            "       Cancelled Rides by Driver  Incomplete Rides  Booking Value  \\\n",
            "count                 500.000000        500.000000     318.000000   \n",
            "mean                    0.134000          0.040000    1074.266321   \n",
            "std                     0.340993          0.196155     563.976695   \n",
            "min                     0.000000          0.000000      51.840000   \n",
            "25%                     0.000000          0.000000     605.515000   \n",
            "50%                     0.000000          0.000000    1073.770000   \n",
            "75%                     0.000000          0.000000    1567.760000   \n",
            "max                     1.000000          1.000000    1999.880000   \n",
            "\n",
            "       Ride Distance  Driver Ratings  Customer Rating  \n",
            "count     318.000000      318.000000       318.000000  \n",
            "mean       21.586981        4.019811         4.079245  \n",
            "std        11.078310        0.592927         0.593612  \n",
            "min         1.030000        3.000000         3.000000  \n",
            "25%        11.765000        3.500000         3.500000  \n",
            "50%        22.690000        4.000000         4.100000  \n",
            "75%        30.997500        4.500000         4.600000  \n",
            "max        39.740000        5.000000         5.000000  \n"
          ]
        }
      ]
    },
    {
      "cell_type": "code",
      "source": [
        "import pandas as pd\n",
        "marks = [56, 45, 35, 41, 60, 57, 56, 56]\n",
        "s = pd.Series(marks)\n",
        "print(s)\n",
        "print(s.unique())"
      ],
      "metadata": {
        "id": "d-3XTwoKHoa9",
        "outputId": "8aef71a9-e606-4164-a6fa-e91f4b0cc894",
        "colab": {
          "base_uri": "https://localhost:8080/"
        }
      },
      "execution_count": 21,
      "outputs": [
        {
          "output_type": "stream",
          "name": "stdout",
          "text": [
            "0    56\n",
            "1    45\n",
            "2    35\n",
            "3    41\n",
            "4    60\n",
            "5    57\n",
            "6    56\n",
            "7    56\n",
            "dtype: int64\n",
            "[56 45 35 41 60 57]\n"
          ]
        }
      ]
    },
    {
      "cell_type": "code",
      "source": [
        "import pandas as pd\n",
        "marks = [56, 45, 35, 41, 60, 57, 56, 56]\n",
        "s = pd.Series(marks)\n",
        "print(s)\n",
        "print(s.nunique())"
      ],
      "metadata": {
        "id": "i3RkjCCLH4Z4",
        "outputId": "042b00e1-047e-4ab3-9422-14b0b843911a",
        "colab": {
          "base_uri": "https://localhost:8080/"
        }
      },
      "execution_count": 22,
      "outputs": [
        {
          "output_type": "stream",
          "name": "stdout",
          "text": [
            "0    56\n",
            "1    45\n",
            "2    35\n",
            "3    41\n",
            "4    60\n",
            "5    57\n",
            "6    56\n",
            "7    56\n",
            "dtype: int64\n",
            "6\n"
          ]
        }
      ]
    }
  ]
}